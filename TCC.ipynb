{
 "cells": [
  {
   "cell_type": "markdown",
   "metadata": {},
   "source": [
    "<h1>Introdução</h1>\n",
    "\n",
    "<p>No contexto de inteligência artificial e aprendizagem de máquina, uma rede neural convolucional (CNN do inglês Convolutional Neural network ou ConvNet) é uma classe de rede neural artificial do tipo feed-forward, que vem sendo aplicada com sucesso no processamento e análise de imagens digitais.[1] </p>\n",
    "<p>Uma CNN usa uma variação de perceptrons multicamada desenvolvidos de modo a demandar o mínimo pré-processamento possível. Essas redes também são conhecidas como redes neurais artificiais invariantes a deslocamento (shift invariant) ou invariantes a espaço (space invariant), em ambos os casos representadas pela sigla em inglês SIANN.[2][3]</p>\n",
    "<img src=\"img/conv_img.jpeg\">\n",
    "<p>Uma imagem preta e branca (grayscale) é representada como uma matrix 2D, em que cada posição da matrix representa um pixel da imagem. Os valores para cada elemento variam entre 0 (preto) até 255 (branco), conforme o exemplo abaixo.Já uma imagem colorida, é normalmente representada por uma matrix 3D de forma que seja possível armazenar uma combinação das cores vermelho, verde e azul (RGB do inglês).</p>\n",
    "<img src=\"img/gray_img.jpeg\">\n",
    "\n",
    "<h3>Convoluções</h3>\n",
    "<p>Matematicamente, uma convolução é uma operação linear que a partir de duas funções, gera uma terceira (normalmente chamada de feature map). No contexto de imagens, podemos entender esse processo como um filtro/kernel que transforma uma imagem de entrada.\n",
    "Um kernel é uma matrix utilizada para uma operação de multiplicação de matrizes. Esta operação é aplicada diversas vezes em diferentes regiões da imagem. A cada aplicação, a região é alterada por um parâmetro conhecido como stride. Normalmente o stride possui o valor 1, o que significa que a transformação será aplicada em todos os pixels da imagem. Um exemplo dessa transformação é ilustrado abaixo.</p>\n",
    "\n",
    "<img src=\"img/conv_.gif\">\n",
    "\n",
    "<h3> Padding </h3>\n",
    "<p>Padding é um processo em que alguns pixels são adicionados ao redor da imagem antes da operação de convolução, de forma a manter a dimensionalidade na imagem resultante durante a operação.</p>\n",
    "<img src=\"img/padding.png\">\n",
    "<p>Algumas das operações de convolução mais utilizadas com imagens são apresentadas abaixo.</p>\n",
    "<img src=\"img/operation_padding.png\">\n",
    "<p>Esse processo é utilizado porque essas imagens resultantes podem conter elementos que facilitam a identificação da classe alvo para a rede. Uma CNN utiliza esse processo nas suas camadas iniciais, com a diferença de que a matrix de kernel não possui valores “chumbados” como no exemplo acima, ou seja: eles são parâmetros treinados pelo algoritmo.</p>\n",
    "\n",
    "<h3>ReLU</h3>\n",
    "<p>Uma rede neural sem função de ativação torna-se um modelo linear. Se o seu problema é linear, existem outros modelos mais simples que te atenderão tão bem quanto uma rede neural. Infelizmente a maioria dos problemas complexos não são lineares. Portanto, para adicionar a não linearidade a rede, utilizamos as funções de ativação. Nos dias de hoje, e principalmente no contexto de imagens, a mais utilizada é a função ReLU.\n",
    "Matematicamente a função ReLU é definida como y = max(0, x). O gráfico a seguir é a ilustração desta função.</p>\n",
    "<img src=\"img/Relu.png\">\n",
    "\n",
    "<h3>Pooling</h3>\n",
    "<p>Pooling é um processo de downsamping. É um processo simples de redução da dimensionalidade/features maps. Em uma forma leviana de pensar, podemos entender essa transformação como uma redução do tamanho da imagem.\n",
    "A principal motivação dessa operação no modelo, é de diminuir sua variância a pequenas alterações e também de reduzir a quantidade de parâmetros treinados pela rede.</p>\n",
    "<img src=\"img/Pooling.png\">\n",
    "<p>Existem 3 operações diferentes de Pooling (MaxPooling, SumPooling, AvaragePooling). Todas elas seguem o mesmo princípio e só se diferem na forma como calculam o valor final. A mais utilizada nos dias de hoje é a MaxPooling.\n",
    "A operação de MaxPooling retira o maior elemento de determinada região da matrix (considerando o tamanho do pool aplicado). Posteriormente, é feito um deslizamento considerando um parâmetro de stride (similar a a operação de convolução) para aplicação de uma nova operação.</p>\n",
    "<img src=\"img/Pooling_op.jpeg\">\n",
    "\n",
    "<h3>Dropout</h3>\n",
    "<p>Dropout não é uma especificidade de uma CNN, porém a utilizaremos em nossa implementação técnica, portanto abordaremos seu funcionamento.\n",
    "Em resumo, a camada de Dropout é utilizada para evitar que determinadas partes da rede neural tenham muita responsabilidade e consequentemente, possam ficar muito sensíveis a pequenas alterações.\n",
    "Essa camada recebe um hyper-parâmetro que define uma probabilidade de “desligar” determinada área da rede neural durante o processo de treinamento.</p>\n",
    "<img src=\"img/drop_out.png\">\n",
    "\n",
    "<h3>Flatten</h3>\n",
    "<p>Essa camada normalmente é utilizada na divisão das 2 partes da CNN (extração de características / rede neural tradicional ). Ela basicamente opera uma transformação na matrix da imagem, alterando seu formato para um array. Por exemplo, uma imagem em grayscale de 28x28 será transformada para um array de 784 posições. A imagem abaixo ilustra essa operação.</p>\n",
    "<img src=\"img/Flatting.png\">\n",
    "\n",
    "<h3>Rede Tradicional (Dense Layers) </h3>\n",
    "<p>Rede neural é um modelo computacional baseado no sistema nervoso central humano. Elas são capazes de reconhecer padrões em uma massa de dados de forma a classificá-los em alguma categoria ou fazer a regressão de algum valor. </p>\n",
    "<img src=\"img/dense_layer.png\">"
   ]
  },
  {
   "cell_type": "code",
   "execution_count": 61,
   "metadata": {},
   "outputs": [],
   "source": [
    "import tensorflow as tf\n",
    "from tensorflow.keras.layers import Input, Dense, Dropout, Conv2D, MaxPooling2D, Flatten, Dropout, BatchNormalization\n",
    "from tensorflow.keras.models import Model\n",
    "from tensorflow.keras.optimizers import Adam\n",
    "from tensorflow.keras.preprocessing.image import ImageDataGenerator\n",
    "from tensorflow.keras.callbacks import ModelCheckpoint\n",
    "\n",
    "import numpy as np\n",
    "import SimpleITK as sitk\n",
    "import cv2 as cv\n",
    "import matplotlib.pyplot as plt\n",
    "import os\n",
    "\n",
    "from sklearn.model_selection import train_test_split\n",
    "from mlxtend.plotting import plot_confusion_matrix\n",
    "from sklearn.metrics import confusion_matrix"
   ]
  },
  {
   "cell_type": "code",
   "execution_count": 2,
   "metadata": {},
   "outputs": [],
   "source": [
    "image_size = 256       #resize all images to 256*256*\n",
    "\n",
    "labels = ['NORMAL', 'PNEUMONIA']          #labels from the folders"
   ]
  },
  {
   "cell_type": "code",
   "execution_count": 3,
   "metadata": {},
   "outputs": [],
   "source": [
    "def create_training_data(data_dir):              #creating the training data\n",
    "    \n",
    "    images = []\n",
    "    \n",
    "    for label in labels:\n",
    "        dir = os.path.join(data_dir,label)\n",
    "        class_num = labels.index(label)\n",
    "        \n",
    "        for image in os.listdir(dir):    #going through all the images in different folders and resizing them\n",
    "            \n",
    "            image_read = cv.imread(os.path.join(dir,image),cv.IMREAD_GRAYSCALE)\n",
    "            image_resized = cv.resize(image_read,(image_size,image_size))\n",
    "            images.append([image_resized,class_num])\n",
    "            \n",
    "    return np.array(images)"
   ]
  },
  {
   "cell_type": "code",
   "execution_count": 4,
   "metadata": {},
   "outputs": [],
   "source": [
    "train = create_training_data(r'C:\\Users\\Megatron\\Desktop\\TCC\\chest_xray\\train')\n",
    "test = create_training_data(r'C:\\Users\\Megatron\\Desktop\\TCC\\chest_xray\\test')\n",
    "val = create_training_data(r'C:\\Users\\Megatron\\Desktop\\TCC\\chest_xray\\val')"
   ]
  },
  {
   "cell_type": "code",
   "execution_count": 5,
   "metadata": {},
   "outputs": [
    {
     "name": "stdout",
     "output_type": "stream",
     "text": [
      "Training Shape (5216, 2) \n",
      "Testing Shape (624, 2) \n",
      "Validation Shape (16, 2)\n"
     ]
    }
   ],
   "source": [
    "print('Training Shape',train.shape,'\\nTesting Shape', test.shape, '\\nValidation Shape',val.shape)"
   ]
  },
  {
   "cell_type": "markdown",
   "metadata": {},
   "source": [
    "<p>Pneumonias são infecções que se instalam nos pulmões, órgãos duplos localizados um de cada lado da caixa torácica. Podem acometer a região dos alvéolos pulmonares onde desembocam as ramificações terminais dos brônquios e, às vezes, os interstícios (espaço entre um alvéolo e outro).</p>\n",
    "\n",
    "</p>Basicamente, pneumonia é provocada pela penetração de um agente infeccioso ou irritante (bactérias, vírus, fungos e por reações alérgicas) no espaço alveolar, onde ocorre a troca gasosa. Esse local deve estar sempre muito limpo, livre de substâncias que possam impedir o contato do ar com o sangue</p>\n",
    "\n",
    "<img src=\"img/raio_x_torax.png\">\n",
    "\n",
    "<h3>PNEUMONIA BACTERIANA</h3>\n",
    "\n",
    "<p>Pode ser classificada em 3 grupos principais. De acordo com suas\n",
    "características morfológicas: pneumonia lobar, broncopneumonia e pneumonia\n",
    "intersticial aguda.</p>\n",
    "<p>Essa classificação tem o seu uso limitado, pois as\n",
    "características radiográficas se sobrepõem e não podem ser usadas para\n",
    "confirmação de diagnóstico etiológico.Por esse motivo, muitos autores\n",
    "preferem classificar pneumonias de acordo com o mecanismo de origem:\n",
    "pneumonia adquirida na comunidade (PAC), pneumonia nosocomial e\n",
    "pneumonia aspirativa.</p>\n",
    "<p>Abordaremos a seguir a PAC, que é o grupo de\n",
    "pneumonias mais prevalente nos atendimentos de emergência.\n",
    "O achado usual na PAC coincide com a apresentação clássica da\n",
    "pneumonia lobar: consolidação do espaço aéreo de um segmento ou lobo,\n",
    "limitada pela superfície pleural (Figura 2).O Streptococcus pneumoniae é o\n",
    "microorganismo mais frequente causador de PAC. Hoje em dia, o uso de\n",
    "antibióticos mudou a aparência da pneumonia Pneumocócica, que pode\n",
    "aparecer como áreas confluentes desiguais, multilobares ou bilaterais (Figura.\n",
    "3a).</p>\n",
    "<p>O Mycoplasma pneumoniae, outro importante agente causador de PAC,\n",
    "pode se apresentar com sintomas de longa duração e um padrão de infiltração\n",
    "reticulo-nodular difusa (Figura 3b).</p>\n",
    "<img src=\"img/torax_bact.png\">"
   ]
  },
  {
   "cell_type": "code",
   "execution_count": 66,
   "metadata": {},
   "outputs": [
    {
     "name": "stderr",
     "output_type": "stream",
     "text": [
      "D:\\Users\\Megatron\\Anaconda3\\lib\\site-packages\\IPython\\core\\display.py:689: UserWarning: Consider using IPython.display.IFrame instead\n",
      "  warnings.warn(\"Consider using IPython.display.IFrame instead\")\n"
     ]
    },
    {
     "data": {
      "text/html": [
       "<iframe width='560' height='315' src='https://www.youtube.com/embed/Z0Yr1KaLAkg?controls=0' frameborder='0' allow='accelerometer; autoplay; encrypted-media; gyroscope; picture-in-picture' allowfullscreen></iframe>"
      ],
      "text/plain": [
       "<IPython.core.display.HTML object>"
      ]
     },
     "execution_count": 66,
     "metadata": {},
     "output_type": "execute_result"
    }
   ],
   "source": [
    "from IPython.display import HTML\n",
    "\n",
    "HTML(\"<iframe width='560' height='315' src='https://www.youtube.com/embed/Z0Yr1KaLAkg?controls=0' frameborder='0' allow='accelerometer; autoplay; encrypted-media; gyroscope; picture-in-picture' allowfullscreen></iframe>\")"
   ]
  },
  {
   "cell_type": "code",
   "execution_count": 63,
   "metadata": {},
   "outputs": [
    {
     "name": "stdout",
     "output_type": "stream",
     "text": [
      "NORMAL\n"
     ]
    },
    {
     "data": {
      "image/png": "[encoded data removed]",
      "text/plain": [
       "<Figure size 432x288 with 1 Axes>"
      ]
     },
     "metadata": {
      "needs_background": "light"
     },
     "output_type": "display_data"
    }
   ],
   "source": [
    "#VIzualizing some img\n",
    "plt.imshow(train[1][0], cmap='gray')\n",
    "print(labels[train[1][1]])   "
   ]
  },
  {
   "cell_type": "code",
   "execution_count": 7,
   "metadata": {},
   "outputs": [
    {
     "name": "stdout",
     "output_type": "stream",
     "text": [
      "PNEUMONIA\n"
     ]
    },
    {
     "data": {
      "image/png": "[encoded data removed]",
      "text/plain": [
       "<Figure size 432x288 with 1 Axes>"
      ]
     },
     "metadata": {
      "needs_background": "light"
     },
     "output_type": "display_data"
    }
   ],
   "source": [
    "plt.imshow(train[5000][0], cmap='gray')\n",
    "print(labels[train[5000][1]])"
   ]
  },
  {
   "cell_type": "code",
   "execution_count": 8,
   "metadata": {},
   "outputs": [],
   "source": [
    "X = []\n",
    "y = []\n",
    "\n",
    "for feature, label in train:\n",
    "    X.append(feature)          #appending all images\n",
    "    y.append(label)            #appending all labels\n",
    "\n",
    "for feature, label in test:\n",
    "    X.append(feature)\n",
    "    y.append(label)\n",
    "    "
   ]
  },
  {
   "cell_type": "code",
   "execution_count": 9,
   "metadata": {},
   "outputs": [],
   "source": [
    "X_new = np.array(X).reshape(-1, image_size, image_size, 1)\n",
    "y_new = np.array(y)\n",
    "y_new = np.expand_dims(y_new, axis =1)"
   ]
  },
  {
   "cell_type": "code",
   "execution_count": 10,
   "metadata": {},
   "outputs": [],
   "source": [
    "X_train, X_test, y_train, y_test = train_test_split(X_new, y_new, test_size=0.25, random_state = 42)"
   ]
  },
  {
   "cell_type": "code",
   "execution_count": 11,
   "metadata": {},
   "outputs": [
    {
     "name": "stdout",
     "output_type": "stream",
     "text": [
      "X Train Shape (4380, 256, 256, 1) \n",
      "X Test shape (1460, 256, 256, 1) \n",
      "Y Train Shape (4380, 1) \n",
      "Y Test Shape (1460, 1)\n"
     ]
    }
   ],
   "source": [
    "print('X Train Shape',X_train.shape,'\\nX Test shape',X_test.shape, '\\nY Train Shape',y_train.shape,'\\nY Test Shape',y_test.shape)"
   ]
  },
  {
   "cell_type": "code",
   "execution_count": 12,
   "metadata": {},
   "outputs": [
    {
     "name": "stdout",
     "output_type": "stream",
     "text": [
      "Model: \"model\"\n",
      "_________________________________________________________________\n",
      "Layer (type)                 Output Shape              Param #   \n",
      "=================================================================\n",
      "input_1 (InputLayer)         [(None, 256, 256, 1)]     0         \n",
      "_________________________________________________________________\n",
      "conv2d (Conv2D)              (None, 256, 256, 32)      320       \n",
      "_________________________________________________________________\n",
      "batch_normalization (BatchNo (None, 256, 256, 32)      128       \n",
      "_________________________________________________________________\n",
      "conv2d_1 (Conv2D)            (None, 256, 256, 32)      9248      \n",
      "_________________________________________________________________\n",
      "batch_normalization_1 (Batch (None, 256, 256, 32)      128       \n",
      "_________________________________________________________________\n",
      "max_pooling2d (MaxPooling2D) (None, 128, 128, 32)      0         \n",
      "_________________________________________________________________\n",
      "conv2d_2 (Conv2D)            (None, 128, 128, 64)      18496     \n",
      "_________________________________________________________________\n",
      "batch_normalization_2 (Batch (None, 128, 128, 64)      256       \n",
      "_________________________________________________________________\n",
      "conv2d_3 (Conv2D)            (None, 128, 128, 64)      36928     \n",
      "_________________________________________________________________\n",
      "batch_normalization_3 (Batch (None, 128, 128, 64)      256       \n",
      "_________________________________________________________________\n",
      "max_pooling2d_1 (MaxPooling2 (None, 64, 64, 64)        0         \n",
      "_________________________________________________________________\n",
      "conv2d_4 (Conv2D)            (None, 64, 64, 128)       73856     \n",
      "_________________________________________________________________\n",
      "batch_normalization_4 (Batch (None, 64, 64, 128)       512       \n",
      "_________________________________________________________________\n",
      "conv2d_5 (Conv2D)            (None, 64, 64, 128)       147584    \n",
      "_________________________________________________________________\n",
      "batch_normalization_5 (Batch (None, 64, 64, 128)       512       \n",
      "_________________________________________________________________\n",
      "max_pooling2d_2 (MaxPooling2 (None, 32, 32, 128)       0         \n",
      "_________________________________________________________________\n",
      "conv2d_6 (Conv2D)            (None, 32, 32, 256)       295168    \n",
      "_________________________________________________________________\n",
      "batch_normalization_6 (Batch (None, 32, 32, 256)       1024      \n",
      "_________________________________________________________________\n",
      "conv2d_7 (Conv2D)            (None, 32, 32, 256)       590080    \n",
      "_________________________________________________________________\n",
      "batch_normalization_7 (Batch (None, 32, 32, 256)       1024      \n",
      "_________________________________________________________________\n",
      "max_pooling2d_3 (MaxPooling2 (None, 16, 16, 256)       0         \n",
      "_________________________________________________________________\n",
      "flatten (Flatten)            (None, 65536)             0         \n",
      "_________________________________________________________________\n",
      "dense (Dense)                (None, 512)               33554944  \n",
      "_________________________________________________________________\n",
      "dropout (Dropout)            (None, 512)               0         \n",
      "_________________________________________________________________\n",
      "dense_1 (Dense)              (None, 512)               262656    \n",
      "_________________________________________________________________\n",
      "dropout_1 (Dropout)          (None, 512)               0         \n",
      "_________________________________________________________________\n",
      "dense_2 (Dense)              (None, 512)               262656    \n",
      "_________________________________________________________________\n",
      "dropout_2 (Dropout)          (None, 512)               0         \n",
      "_________________________________________________________________\n",
      "dense_3 (Dense)              (None, 1)                 513       \n",
      "=================================================================\n",
      "Total params: 35,256,289\n",
      "Trainable params: 35,254,369\n",
      "Non-trainable params: 1,920\n",
      "_________________________________________________________________\n"
     ]
    }
   ],
   "source": [
    "mirrored_strategy = tf.distribute.OneDeviceStrategy(device=\"/gpu:0\")\n",
    "with mirrored_strategy.scope():\n",
    "    i = Input(X_train.shape[1:])                                        # Input Layer\n",
    "\n",
    "    a = Conv2D(32, (3,3), activation ='relu', padding = 'same')(i)      # Convolution\n",
    "    a = BatchNormalization()(a)                                         # Batch Normalization\n",
    "    a = Conv2D(32, (3,3), activation ='relu', padding = 'same')(a)\n",
    "    a = BatchNormalization()(a)\n",
    "    a = MaxPooling2D(2,2)(a)                                            # Max Pooling\n",
    "\n",
    "    a = Conv2D(64, (3,3), activation ='relu', padding = 'same')(a)\n",
    "    a = BatchNormalization()(a)\n",
    "    a = Conv2D(64, (3,3), activation ='relu', padding = 'same')(a)\n",
    "    a = BatchNormalization()(a)\n",
    "    a = MaxPooling2D(2,2)(a)\n",
    "\n",
    "    a = Conv2D(128, (3,3), activation ='relu', padding = 'same')(a)\n",
    "    a = BatchNormalization()(a)\n",
    "    a = Conv2D(128, (3,3), activation ='relu', padding = 'same')(a)\n",
    "    a = BatchNormalization()(a)\n",
    "    a = MaxPooling2D(2,2)(a)\n",
    "\n",
    "    a = Conv2D(256, (3,3), activation ='relu', padding = 'same')(a)\n",
    "    a = BatchNormalization()(a)\n",
    "    a = Conv2D(256, (3,3), activation ='relu', padding = 'same')(a)\n",
    "    a = BatchNormalization()(a)\n",
    "    a = MaxPooling2D(2,2)(a)\n",
    "\n",
    "    a = Flatten()(a)                                                      # Flatten\n",
    "    a = Dense(512, activation = 'relu')(a)                               # Fully Connected layer\n",
    "    a = Dropout(0.4)(a)\n",
    "    a = Dense(512, activation = 'relu')(a)\n",
    "    a = Dropout(0.3)(a)\n",
    "    a = Dense(512, activation = 'relu')(a)\n",
    "    a = Dropout(0.1)(a)\n",
    "\n",
    "    a = Dense(1, activation = 'sigmoid')(a)                               # Output Layer\n",
    "\n",
    "    model = Model(i,a)\n",
    "    model.compile(optimizer=Adam(lr = 0.00001), loss=\"binary_crossentropy\", metrics=[\"accuracy\"])\n",
    "    model.summary() "
   ]
  },
  {
   "cell_type": "code",
   "execution_count": 13,
   "metadata": {},
   "outputs": [],
   "source": [
    "batch_size = 4\n",
    "\n",
    "train_gen = ImageDataGenerator(rotation_range=10,\n",
    "                                   horizontal_flip = True,\n",
    "                                   width_shift_range=0.1,\n",
    "                                   height_shift_range=0.1,\n",
    "                                   rescale=1.,\n",
    "                                   zoom_range=0.2,\n",
    "                                   fill_mode='nearest',\n",
    "                                   cval=0)\n",
    "\n",
    "train_generator = train_gen.flow(X_train,y_train,batch_size)\n",
    "steps_per_epoch = X_train.shape[0]//batch_size"
   ]
  },
  {
   "cell_type": "code",
   "execution_count": 14,
   "metadata": {},
   "outputs": [],
   "source": [
    "checkpoint = ModelCheckpoint('Pneumonia1.h5', monitor='val_loss', verbose=1, save_best_only=True, mode='auto')\n",
    "\n",
    "#to save the model - epochs with best validation loss"
   ]
  },
  {
   "cell_type": "markdown",
   "metadata": {},
   "source": [
    "### Treino\n",
    "<p>Quanto menor o <i>loss </i>, melhor o modelo (a menos que o modelo tenha se ajustado demais aos dados de treinamento). A perda é calculada no treinamento e na validação e sua interoperação é o desempenho do modelo nesses dois conjuntos. Diferentemente da <i>Accuracy</i>, a perda não é uma porcentagem. É uma soma dos erros cometidos para cada exemplo nos conjuntos de treinamento ou validação. No caso de redes neurais, a perda é geralmente verossimilhança logarítmica negativa e soma dos quadrados residuais para classificação e regressão, respectivamente. Então, naturalmente, o objetivo principal de um modelo de aprendizado é reduzir (minimizar) o valor da <i>Cost Function</i> em relação aos parâmetros do modelo, alterando os valores do vetor de peso por meio de diferentes métodos de otimização, como a retropropagação em redes neurais. A<i> Cost Function</i> implica em quão bem ou mal um determinado modelo se comporta após cada iteração da otimização. Idealmente, seria de esperar a redução da perda após cada uma ou várias iterações. A <i>Accuracy</i> de um modelo é geralmente determinada depois que os parâmetros do modelo são aprendidos e corrigidos e nenhum aprendizado está ocorrendo. Em seguida, as amostras de teste são fornecidas ao modelo e o número de erros (<i>zero-one loss</i>) que o modelo faz é registrado, após comparação com os verdadeiros valores. Em seguida, é calculada a porcentagem de classificação incorreta.</p>"
   ]
  },
  {
   "cell_type": "code",
   "execution_count": 15,
   "metadata": {},
   "outputs": [
    {
     "name": "stdout",
     "output_type": "stream",
     "text": [
      "Epoch 1/25\n",
      "1095/1095 [==============================] - ETA: 0s - loss: 0.4107 - accuracy: 0.8336\n",
      "Epoch 00001: val_loss improved from inf to 0.44246, saving model to Pneumonia1.h5\n",
      "1095/1095 [==============================] - 53s 48ms/step - loss: 0.4107 - accuracy: 0.8336 - val_loss: 0.4425 - val_accuracy: 0.8651\n",
      "Epoch 2/25\n",
      "1094/1095 [============================>.] - ETA: 0s - loss: 0.3090 - accuracy: 0.8743\n",
      "Epoch 00002: val_loss improved from 0.44246 to 0.36885, saving model to Pneumonia1.h5\n",
      "1095/1095 [==============================] - 55s 50ms/step - loss: 0.3094 - accuracy: 0.8742 - val_loss: 0.3689 - val_accuracy: 0.9027\n",
      "Epoch 3/25\n",
      "1094/1095 [============================>.] - ETA: 0s - loss: 0.2871 - accuracy: 0.8919\n",
      "Epoch 00003: val_loss improved from 0.36885 to 0.26702, saving model to Pneumonia1.h5\n",
      "1095/1095 [==============================] - 54s 49ms/step - loss: 0.2869 - accuracy: 0.8920 - val_loss: 0.2670 - val_accuracy: 0.9212\n",
      "Epoch 4/25\n",
      "1095/1095 [==============================] - ETA: 0s - loss: 0.2642 - accuracy: 0.8975\n",
      "Epoch 00004: val_loss did not improve from 0.26702\n",
      "1095/1095 [==============================] - 46s 42ms/step - loss: 0.2642 - accuracy: 0.8975 - val_loss: 0.3066 - val_accuracy: 0.9281\n",
      "Epoch 5/25\n",
      "1094/1095 [============================>.] - ETA: 0s - loss: 0.2473 - accuracy: 0.9084\n",
      "Epoch 00005: val_loss improved from 0.26702 to 0.26604, saving model to Pneumonia1.h5\n",
      "1095/1095 [==============================] - 54s 50ms/step - loss: 0.2472 - accuracy: 0.9084 - val_loss: 0.2660 - val_accuracy: 0.9308\n",
      "Epoch 6/25\n",
      "1094/1095 [============================>.] - ETA: 0s - loss: 0.2371 - accuracy: 0.9095\n",
      "Epoch 00006: val_loss improved from 0.26604 to 0.23653, saving model to Pneumonia1.h5\n",
      "1095/1095 [==============================] - 52s 47ms/step - loss: 0.2369 - accuracy: 0.9096 - val_loss: 0.2365 - val_accuracy: 0.9384\n",
      "Epoch 7/25\n",
      "1095/1095 [==============================] - ETA: 0s - loss: 0.2239 - accuracy: 0.9194\n",
      "Epoch 00007: val_loss improved from 0.23653 to 0.21315, saving model to Pneumonia1.h5\n",
      "1095/1095 [==============================] - 51s 46ms/step - loss: 0.2239 - accuracy: 0.9194 - val_loss: 0.2132 - val_accuracy: 0.9438\n",
      "Epoch 8/25\n",
      "1095/1095 [==============================] - ETA: 0s - loss: 0.2261 - accuracy: 0.9121\n",
      "Epoch 00008: val_loss did not improve from 0.21315\n",
      "1095/1095 [==============================] - 43s 39ms/step - loss: 0.2261 - accuracy: 0.9121 - val_loss: 0.2434 - val_accuracy: 0.9322\n",
      "Epoch 9/25\n",
      "1094/1095 [============================>.] - ETA: 0s - loss: 0.2059 - accuracy: 0.9266\n",
      "Epoch 00009: val_loss did not improve from 0.21315\n",
      "1095/1095 [==============================] - 44s 40ms/step - loss: 0.2058 - accuracy: 0.9267 - val_loss: 0.2289 - val_accuracy: 0.9281\n",
      "Epoch 10/25\n",
      "1095/1095 [==============================] - ETA: 0s - loss: 0.2056 - accuracy: 0.9249\n",
      "Epoch 00010: val_loss improved from 0.21315 to 0.20073, saving model to Pneumonia1.h5\n",
      "1095/1095 [==============================] - 51s 46ms/step - loss: 0.2056 - accuracy: 0.9249 - val_loss: 0.2007 - val_accuracy: 0.9473\n",
      "Epoch 11/25\n",
      "1095/1095 [==============================] - ETA: 0s - loss: 0.1842 - accuracy: 0.9292\n",
      "Epoch 00011: val_loss did not improve from 0.20073\n",
      "1095/1095 [==============================] - 43s 39ms/step - loss: 0.1842 - accuracy: 0.9292 - val_loss: 0.2335 - val_accuracy: 0.9301\n",
      "Epoch 12/25\n",
      "1095/1095 [==============================] - ETA: 0s - loss: 0.1935 - accuracy: 0.9276\n",
      "Epoch 00012: val_loss improved from 0.20073 to 0.19360, saving model to Pneumonia1.h5\n",
      "1095/1095 [==============================] - 50s 46ms/step - loss: 0.1935 - accuracy: 0.9276 - val_loss: 0.1936 - val_accuracy: 0.9493\n",
      "Epoch 13/25\n",
      "1095/1095 [==============================] - ETA: 0s - loss: 0.1809 - accuracy: 0.9340\n",
      "Epoch 00013: val_loss did not improve from 0.19360\n",
      "1095/1095 [==============================] - 43s 39ms/step - loss: 0.1809 - accuracy: 0.9340 - val_loss: 0.2560 - val_accuracy: 0.9356\n",
      "Epoch 14/25\n",
      "1095/1095 [==============================] - ETA: 0s - loss: 0.1734 - accuracy: 0.9368\n",
      "Epoch 00014: val_loss did not improve from 0.19360\n",
      "1095/1095 [==============================] - 43s 40ms/step - loss: 0.1734 - accuracy: 0.9368 - val_loss: 0.2071 - val_accuracy: 0.9432\n",
      "Epoch 15/25\n",
      "1095/1095 [==============================] - ETA: 0s - loss: 0.1751 - accuracy: 0.9324\n",
      "Epoch 00015: val_loss did not improve from 0.19360\n",
      "1095/1095 [==============================] - 43s 40ms/step - loss: 0.1751 - accuracy: 0.9324 - val_loss: 0.2126 - val_accuracy: 0.9459\n",
      "Epoch 16/25\n",
      "1095/1095 [==============================] - ETA: 0s - loss: 0.1685 - accuracy: 0.9374\n",
      "Epoch 00016: val_loss improved from 0.19360 to 0.17745, saving model to Pneumonia1.h5\n",
      "1095/1095 [==============================] - 50s 46ms/step - loss: 0.1685 - accuracy: 0.9374 - val_loss: 0.1774 - val_accuracy: 0.9562\n",
      "Epoch 17/25\n",
      "1095/1095 [==============================] - ETA: 0s - loss: 0.1634 - accuracy: 0.9402\n",
      "Epoch 00017: val_loss did not improve from 0.17745\n",
      "1095/1095 [==============================] - 45s 41ms/step - loss: 0.1634 - accuracy: 0.9402 - val_loss: 0.2872 - val_accuracy: 0.9253\n",
      "Epoch 18/25\n",
      "1095/1095 [==============================] - ETA: 0s - loss: 0.1605 - accuracy: 0.9438\n",
      "Epoch 00018: val_loss improved from 0.17745 to 0.17410, saving model to Pneumonia1.h5\n",
      "1095/1095 [==============================] - 51s 46ms/step - loss: 0.1605 - accuracy: 0.9438 - val_loss: 0.1741 - val_accuracy: 0.9493\n",
      "Epoch 19/25\n",
      "1095/1095 [==============================] - ETA: 0s - loss: 0.1569 - accuracy: 0.9457\n",
      "Epoch 00019: val_loss did not improve from 0.17410\n",
      "1095/1095 [==============================] - 44s 40ms/step - loss: 0.1569 - accuracy: 0.9457 - val_loss: 0.2755 - val_accuracy: 0.9219\n",
      "Epoch 20/25\n",
      "1095/1095 [==============================] - ETA: 0s - loss: 0.1572 - accuracy: 0.9484\n",
      "Epoch 00020: val_loss did not improve from 0.17410\n",
      "1095/1095 [==============================] - 44s 40ms/step - loss: 0.1572 - accuracy: 0.9484 - val_loss: 0.1749 - val_accuracy: 0.9445\n",
      "Epoch 21/25\n",
      "1095/1095 [==============================] - ETA: 0s - loss: 0.1491 - accuracy: 0.9457\n",
      "Epoch 00021: val_loss did not improve from 0.17410\n",
      "1095/1095 [==============================] - 44s 40ms/step - loss: 0.1491 - accuracy: 0.9457 - val_loss: 0.2060 - val_accuracy: 0.9418\n",
      "Epoch 22/25\n",
      "1095/1095 [==============================] - ETA: 0s - loss: 0.1492 - accuracy: 0.9418\n",
      "Epoch 00022: val_loss did not improve from 0.17410\n",
      "1095/1095 [==============================] - 44s 40ms/step - loss: 0.1492 - accuracy: 0.9418 - val_loss: 0.2416 - val_accuracy: 0.9370\n",
      "Epoch 23/25\n",
      "1095/1095 [==============================] - ETA: 0s - loss: 0.1475 - accuracy: 0.9473\n",
      "Epoch 00023: val_loss did not improve from 0.17410\n",
      "1095/1095 [==============================] - 44s 41ms/step - loss: 0.1475 - accuracy: 0.9473 - val_loss: 0.1878 - val_accuracy: 0.9507\n",
      "Epoch 24/25\n",
      "1095/1095 [==============================] - ETA: 0s - loss: 0.1490 - accuracy: 0.9493\n",
      "Epoch 00024: val_loss did not improve from 0.17410\n",
      "1095/1095 [==============================] - 45s 41ms/step - loss: 0.1490 - accuracy: 0.9493 - val_loss: 0.2086 - val_accuracy: 0.9411\n",
      "Epoch 25/25\n",
      "1095/1095 [==============================] - ETA: 0s - loss: 0.1470 - accuracy: 0.9498\n",
      "Epoch 00025: val_loss improved from 0.17410 to 0.15993, saving model to Pneumonia1.h5\n",
      "1095/1095 [==============================] - 52s 47ms/step - loss: 0.1470 - accuracy: 0.9498 - val_loss: 0.1599 - val_accuracy: 0.9582\n"
     ]
    }
   ],
   "source": [
    "r = model.fit(train_generator, validation_data=(X_test, y_test), steps_per_epoch = steps_per_epoch, epochs= 25,\n",
    "                       callbacks = [checkpoint])"
   ]
  },
  {
   "cell_type": "code",
   "execution_count": 16,
   "metadata": {},
   "outputs": [
    {
     "data": {
      "text/plain": [
       "<matplotlib.legend.Legend at 0x18fa25fe940>"
      ]
     },
     "execution_count": 16,
     "metadata": {},
     "output_type": "execute_result"
    },
    {
     "data": {
      "image/png": "[encoded data removed]",
      "text/plain": [
       "<Figure size 432x288 with 1 Axes>"
      ]
     },
     "metadata": {
      "needs_background": "light"
     },
     "output_type": "display_data"
    }
   ],
   "source": [
    "plt.plot(r.history['loss'],label='loss')\n",
    "plt.plot(r.history['val_loss'],label='val_loss')\n",
    "plt.legend()"
   ]
  },
  {
   "cell_type": "code",
   "execution_count": 18,
   "metadata": {},
   "outputs": [],
   "source": [
    "new_model = tf.keras.models.load_model('Pneumonia1.h5')   #loading model to train further"
   ]
  },
  {
   "cell_type": "code",
   "execution_count": 19,
   "metadata": {},
   "outputs": [
    {
     "name": "stdout",
     "output_type": "stream",
     "text": [
      "Epoch 1/30\n",
      "1095/1095 [==============================] - ETA: 0s - loss: 0.1248 - accuracy: 0.9543\n",
      "Epoch 00001: val_loss improved from inf to 0.18926, saving model to Pneumonia2.h5\n",
      "1095/1095 [==============================] - 51s 46ms/step - loss: 0.1248 - accuracy: 0.9543 - val_loss: 0.1893 - val_accuracy: 0.9541\n",
      "Epoch 2/30\n",
      "1095/1095 [==============================] - ETA: 0s - loss: 0.1378 - accuracy: 0.9546\n",
      "Epoch 00002: val_loss improved from 0.18926 to 0.16601, saving model to Pneumonia2.h5\n",
      "1095/1095 [==============================] - 51s 47ms/step - loss: 0.1378 - accuracy: 0.9546 - val_loss: 0.1660 - val_accuracy: 0.9603\n",
      "Epoch 3/30\n",
      "1094/1095 [============================>.] - ETA: 0s - loss: 0.1192 - accuracy: 0.9589\n",
      "Epoch 00003: val_loss did not improve from 0.16601\n",
      "1095/1095 [==============================] - 45s 41ms/step - loss: 0.1191 - accuracy: 0.9589 - val_loss: 0.1941 - val_accuracy: 0.9555\n",
      "Epoch 4/30\n",
      "1095/1095 [==============================] - ETA: 0s - loss: 0.1210 - accuracy: 0.9546\n",
      "Epoch 00004: val_loss did not improve from 0.16601\n",
      "1095/1095 [==============================] - 44s 40ms/step - loss: 0.1210 - accuracy: 0.9546 - val_loss: 0.1847 - val_accuracy: 0.9534\n",
      "Epoch 5/30\n",
      "1095/1095 [==============================] - ETA: 0s - loss: 0.1274 - accuracy: 0.9523\n",
      "Epoch 00005: val_loss did not improve from 0.16601\n",
      "1095/1095 [==============================] - 44s 40ms/step - loss: 0.1274 - accuracy: 0.9523 - val_loss: 0.1732 - val_accuracy: 0.9596\n",
      "Epoch 6/30\n",
      "1095/1095 [==============================] - ETA: 0s - loss: 0.1162 - accuracy: 0.9600\n",
      "Epoch 00006: val_loss did not improve from 0.16601\n",
      "1095/1095 [==============================] - 44s 40ms/step - loss: 0.1162 - accuracy: 0.9600 - val_loss: 0.1740 - val_accuracy: 0.9575\n",
      "Epoch 7/30\n",
      "1095/1095 [==============================] - ETA: 0s - loss: 0.1169 - accuracy: 0.9580\n",
      "Epoch 00007: val_loss did not improve from 0.16601\n",
      "1095/1095 [==============================] - 44s 40ms/step - loss: 0.1169 - accuracy: 0.9580 - val_loss: 0.1831 - val_accuracy: 0.9486\n",
      "Epoch 8/30\n",
      "1095/1095 [==============================] - ETA: 0s - loss: 0.1064 - accuracy: 0.9596\n",
      "Epoch 00008: val_loss did not improve from 0.16601\n",
      "1095/1095 [==============================] - 44s 40ms/step - loss: 0.1064 - accuracy: 0.9596 - val_loss: 0.2019 - val_accuracy: 0.9500\n",
      "Epoch 9/30\n",
      "1095/1095 [==============================] - ETA: 0s - loss: 0.1196 - accuracy: 0.9582\n",
      "Epoch 00009: val_loss did not improve from 0.16601\n",
      "1095/1095 [==============================] - 43s 39ms/step - loss: 0.1196 - accuracy: 0.9582 - val_loss: 0.1903 - val_accuracy: 0.9548\n",
      "Epoch 10/30\n",
      "1095/1095 [==============================] - ETA: 0s - loss: 0.1122 - accuracy: 0.9598\n",
      "Epoch 00010: val_loss did not improve from 0.16601\n",
      "1095/1095 [==============================] - 43s 39ms/step - loss: 0.1122 - accuracy: 0.9598 - val_loss: 0.1952 - val_accuracy: 0.9521\n",
      "Epoch 11/30\n",
      "1095/1095 [==============================] - ETA: 0s - loss: 0.1102 - accuracy: 0.9596\n",
      "Epoch 00011: val_loss did not improve from 0.16601\n",
      "1095/1095 [==============================] - 42s 38ms/step - loss: 0.1102 - accuracy: 0.9596 - val_loss: 0.1900 - val_accuracy: 0.9534\n",
      "Epoch 12/30\n",
      "1095/1095 [==============================] - ETA: 0s - loss: 0.1196 - accuracy: 0.9578\n",
      "Epoch 00012: val_loss did not improve from 0.16601\n",
      "1095/1095 [==============================] - 42s 38ms/step - loss: 0.1196 - accuracy: 0.9578 - val_loss: 0.2112 - val_accuracy: 0.9452\n",
      "Epoch 13/30\n",
      "1095/1095 [==============================] - ETA: 0s - loss: 0.1149 - accuracy: 0.9550\n",
      "Epoch 00013: val_loss did not improve from 0.16601\n",
      "1095/1095 [==============================] - 43s 39ms/step - loss: 0.1149 - accuracy: 0.9550 - val_loss: 0.1780 - val_accuracy: 0.9616\n",
      "Epoch 14/30\n",
      "1094/1095 [============================>.] - ETA: 0s - loss: 0.1139 - accuracy: 0.9580\n",
      "Epoch 00014: val_loss did not improve from 0.16601\n",
      "1095/1095 [==============================] - 44s 40ms/step - loss: 0.1138 - accuracy: 0.9580 - val_loss: 0.1927 - val_accuracy: 0.9521\n",
      "Epoch 15/30\n",
      "1095/1095 [==============================] - ETA: 0s - loss: 0.1171 - accuracy: 0.9600\n",
      "Epoch 00015: val_loss did not improve from 0.16601\n",
      "1095/1095 [==============================] - 46s 42ms/step - loss: 0.1171 - accuracy: 0.9600 - val_loss: 0.2022 - val_accuracy: 0.9486\n",
      "Epoch 16/30\n",
      "1095/1095 [==============================] - ETA: 0s - loss: 0.1074 - accuracy: 0.9639\n",
      "Epoch 00016: val_loss improved from 0.16601 to 0.15438, saving model to Pneumonia2.h5\n",
      "1095/1095 [==============================] - 51s 47ms/step - loss: 0.1074 - accuracy: 0.9639 - val_loss: 0.1544 - val_accuracy: 0.9616\n",
      "Epoch 17/30\n",
      "1094/1095 [============================>.] - ETA: 0s - loss: 0.1069 - accuracy: 0.9602\n",
      "Epoch 00017: val_loss did not improve from 0.15438\n",
      "1095/1095 [==============================] - 44s 40ms/step - loss: 0.1069 - accuracy: 0.9603 - val_loss: 0.1789 - val_accuracy: 0.9527\n",
      "Epoch 18/30\n",
      "1094/1095 [============================>.] - ETA: 0s - loss: 0.1110 - accuracy: 0.9614\n",
      "Epoch 00018: val_loss did not improve from 0.15438\n",
      "1095/1095 [==============================] - 44s 40ms/step - loss: 0.1109 - accuracy: 0.9614 - val_loss: 0.1753 - val_accuracy: 0.9479\n",
      "Epoch 19/30\n",
      "1094/1095 [============================>.] - ETA: 0s - loss: 0.1098 - accuracy: 0.9586\n",
      "Epoch 00019: val_loss did not improve from 0.15438\n",
      "1095/1095 [==============================] - 44s 40ms/step - loss: 0.1097 - accuracy: 0.9587 - val_loss: 0.1743 - val_accuracy: 0.9534\n",
      "Epoch 20/30\n",
      "1095/1095 [==============================] - ETA: 0s - loss: 0.1058 - accuracy: 0.9621\n",
      "Epoch 00020: val_loss improved from 0.15438 to 0.15255, saving model to Pneumonia2.h5\n",
      "1095/1095 [==============================] - 51s 47ms/step - loss: 0.1058 - accuracy: 0.9621 - val_loss: 0.1525 - val_accuracy: 0.9616\n",
      "Epoch 21/30\n",
      "1095/1095 [==============================] - ETA: 0s - loss: 0.1019 - accuracy: 0.9644\n",
      "Epoch 00021: val_loss did not improve from 0.15255\n",
      "1095/1095 [==============================] - 44s 40ms/step - loss: 0.1019 - accuracy: 0.9644 - val_loss: 0.1725 - val_accuracy: 0.9548\n",
      "Epoch 22/30\n",
      "1094/1095 [============================>.] - ETA: 0s - loss: 0.1099 - accuracy: 0.9628\n",
      "Epoch 00022: val_loss did not improve from 0.15255\n",
      "1095/1095 [==============================] - 43s 40ms/step - loss: 0.1098 - accuracy: 0.9628 - val_loss: 0.1712 - val_accuracy: 0.9479\n",
      "Epoch 23/30\n",
      "1095/1095 [==============================] - ETA: 0s - loss: 0.1107 - accuracy: 0.9594\n",
      "Epoch 00023: val_loss did not improve from 0.15255\n",
      "1095/1095 [==============================] - 44s 40ms/step - loss: 0.1107 - accuracy: 0.9594 - val_loss: 0.1712 - val_accuracy: 0.9568\n",
      "Epoch 24/30\n",
      "1095/1095 [==============================] - ETA: 0s - loss: 0.0989 - accuracy: 0.9655\n",
      "Epoch 00024: val_loss did not improve from 0.15255\n",
      "1095/1095 [==============================] - 44s 40ms/step - loss: 0.0989 - accuracy: 0.9655 - val_loss: 0.1623 - val_accuracy: 0.9562\n",
      "Epoch 25/30\n",
      "1095/1095 [==============================] - ETA: 0s - loss: 0.1042 - accuracy: 0.9626\n",
      "Epoch 00025: val_loss did not improve from 0.15255\n",
      "1095/1095 [==============================] - 45s 41ms/step - loss: 0.1042 - accuracy: 0.9626 - val_loss: 0.1575 - val_accuracy: 0.9658\n",
      "Epoch 26/30\n",
      "1095/1095 [==============================] - ETA: 0s - loss: 0.0982 - accuracy: 0.9626\n",
      "Epoch 00026: val_loss did not improve from 0.15255\n",
      "1095/1095 [==============================] - 43s 40ms/step - loss: 0.0982 - accuracy: 0.9626 - val_loss: 0.1974 - val_accuracy: 0.9534\n",
      "Epoch 27/30\n",
      "1095/1095 [==============================] - ETA: 0s - loss: 0.1070 - accuracy: 0.9632\n",
      "Epoch 00027: val_loss did not improve from 0.15255\n",
      "1095/1095 [==============================] - 43s 39ms/step - loss: 0.1070 - accuracy: 0.9632 - val_loss: 0.1685 - val_accuracy: 0.9589\n",
      "Epoch 28/30\n",
      "1095/1095 [==============================] - ETA: 0s - loss: 0.0998 - accuracy: 0.9623\n",
      "Epoch 00028: val_loss did not improve from 0.15255\n",
      "1095/1095 [==============================] - 43s 39ms/step - loss: 0.0998 - accuracy: 0.9623 - val_loss: 0.1625 - val_accuracy: 0.9637\n",
      "Epoch 29/30\n",
      "1095/1095 [==============================] - ETA: 0s - loss: 0.0987 - accuracy: 0.9626\n",
      "Epoch 00029: val_loss did not improve from 0.15255\n",
      "1095/1095 [==============================] - 43s 39ms/step - loss: 0.0987 - accuracy: 0.9626 - val_loss: 0.1737 - val_accuracy: 0.9562\n",
      "Epoch 30/30\n",
      "1095/1095 [==============================] - ETA: 0s - loss: 0.1034 - accuracy: 0.9616\n",
      "Epoch 00030: val_loss did not improve from 0.15255\n",
      "1095/1095 [==============================] - 43s 39ms/step - loss: 0.1034 - accuracy: 0.9616 - val_loss: 0.1766 - val_accuracy: 0.9548\n"
     ]
    }
   ],
   "source": [
    "new_model.compile(optimizer = Adam(lr = 0.000005), loss = 'binary_crossentropy', metrics = ['accuracy']) \n",
    "\n",
    "checkpoint1 = ModelCheckpoint('Pneumonia2.h5', monitor='val_loss', verbose=1, save_best_only=True, mode='auto')\n",
    "\n",
    "batch_size = 4\n",
    "\n",
    "r1 = new_model.fit(train_generator, validation_data=(X_test, y_test), steps_per_epoch = steps_per_epoch, epochs= 30,\n",
    "                       callbacks = [checkpoint1])"
   ]
  },
  {
   "cell_type": "code",
   "execution_count": 55,
   "metadata": {},
   "outputs": [],
   "source": [
    "final_model = tf.keras.models.load_model('Pneumonia2_v2.h5')"
   ]
  },
  {
   "cell_type": "code",
   "execution_count": 56,
   "metadata": {},
   "outputs": [],
   "source": [
    "pred = final_model.predict(X_test, batch_size = 8)"
   ]
  },
  {
   "cell_type": "code",
   "execution_count": 57,
   "metadata": {},
   "outputs": [
    {
     "data": {
      "text/plain": [
       "array([[1],\n",
       "       [0],\n",
       "       [0],\n",
       "       ...,\n",
       "       [0],\n",
       "       [1],\n",
       "       [1]])"
      ]
     },
     "execution_count": 57,
     "metadata": {},
     "output_type": "execute_result"
    }
   ],
   "source": [
    "pred_final = np.where(pred>0.5,1,0)\n",
    "pred_final"
   ]
  },
  {
   "cell_type": "code",
   "execution_count": 58,
   "metadata": {},
   "outputs": [
    {
     "data": {
      "image/png": "[encoded data removed]",
      "text/plain": [
       "<Figure size 576x576 with 1 Axes>"
      ]
     },
     "metadata": {
      "needs_background": "light"
     },
     "output_type": "display_data"
    }
   ],
   "source": [
    "# Get the confusion matrix\n",
    "CM = confusion_matrix(y_test, pred_final)\n",
    "\n",
    "fig, ax = plot_confusion_matrix(conf_mat=CM ,  figsize=(8,8))\n",
    "plt.title('Confusion matrix')\n",
    "plt.xticks(range(2), ['Normal','Pneumonia'], fontsize=10)\n",
    "plt.yticks(range(2), ['Normal','Pneumonia'], fontsize=10)\n",
    "plt.show()"
   ]
  },
  {
   "cell_type": "code",
   "execution_count": 59,
   "metadata": {},
   "outputs": [],
   "source": [
    "def perf_measure(y_test, pred_final):\n",
    "    TP = 0\n",
    "    FP = 0\n",
    "    TN = 0\n",
    "    FN = 0\n",
    "\n",
    "    for i in range(len(pred_final)): \n",
    "        if y_test[i]==pred_final[i]==1:\n",
    "            TP += 1\n",
    "        if y_test[i]==1 and y_test[i]!=pred_final[i]:\n",
    "            FP += 1\n",
    "        if y_test[i]==pred_final[i]==0:\n",
    "            TN += 1\n",
    "        if y_test[i]==0 and y_test[i]!=pred_final[i]:\n",
    "            FN += 1\n",
    "\n",
    "    return(TP, FP, TN, FN)"
   ]
  },
  {
   "cell_type": "code",
   "execution_count": 60,
   "metadata": {},
   "outputs": [
    {
     "name": "stdout",
     "output_type": "stream",
     "text": [
      "Recall of the model is  0.9737089201877934\n",
      "Precision of the model is  0.9801512287334594\n",
      "F-Score is  0.9769194536033914\n"
     ]
    }
   ],
   "source": [
    "tp, fp, tn ,fn = perf_measure(y_test,pred_final)\n",
    "\n",
    "precision = tp/(tp+fp)\n",
    "recall = tp/(tp+fn)\n",
    "f_score = (2*precision*recall)/(precision+recall)\n",
    "\n",
    "print(\"Recall of the model is \",recall)\n",
    "print(\"Precision of the model is \",precision)\n",
    "print(\"F-Score is \",f_score)"
   ]
  },
  {
   "cell_type": "markdown",
   "metadata": {},
   "source": [
    "<h3>Precisão</h3>\n",
    "<p>Porcentagem de identificações reais que estavam corretas (TP and TN)</p>\n",
    "<h3>Recall </h3>\n",
    "<p>Porporção de verdadeiros positivos que foram identificados corretamente</p>\n",
    "<h3> F1-Score </h3>\n",
    "<p>O F1-score combina o recall com a precisão de modo que tragam um único número.</p>\n",
    "<br>\n",
    "<p>Em todos modelos sempre tentamos buscar a harmonização entre Precisão e Recall </p>\n",
    "<img src=\"img/Harmony.png\">"
   ]
  },
  {
   "cell_type": "markdown",
   "metadata": {},
   "source": [
    "## inicio v2"
   ]
  },
  {
   "cell_type": "code",
   "execution_count": 39,
   "metadata": {},
   "outputs": [],
   "source": [
    "image_size = 256       #resize all images to 256*256*\n",
    "\n",
    "labels_v2 = ['NORMAL', 'PNEUMONIA']          #labels from the folders"
   ]
  },
  {
   "cell_type": "code",
   "execution_count": 40,
   "metadata": {},
   "outputs": [],
   "source": [
    "def create_training_data_v2(data_dir):              #creating the training data\n",
    "    \n",
    "    images = []\n",
    "    \n",
    "    for label in labels_v2:\n",
    "        dir = os.path.join(data_dir,label)\n",
    "        class_num = labels_v2.index(label)\n",
    "        \n",
    "        for image in os.listdir(dir):    #going through all the images in different folders and resizing them\n",
    "            try:\n",
    "                image_read = cv.imread(os.path.join(dir,image),cv.IMREAD_GRAYSCALE)\n",
    "                image_resized = cv.resize(image_read,(image_size,image_size))\n",
    "                images.append([image_resized,class_num])\n",
    "            except:\n",
    "                print('Frame Error')\n",
    "            \n",
    "    return np.array(images)"
   ]
  },
  {
   "cell_type": "code",
   "execution_count": 41,
   "metadata": {},
   "outputs": [
    {
     "name": "stdout",
     "output_type": "stream",
     "text": [
      "Frame Error\n",
      "Frame Error\n",
      "Frame Error\n"
     ]
    }
   ],
   "source": [
    "train_v2 = create_training_data_v2(r'C:\\Users\\Megatron\\Desktop\\TCC\\Coronahack-Chest-XRay-Dataset\\Coronahack-Chest-XRay-Dataset\\train')\n",
    "test_v2 = create_training_data_v2(r'C:\\Users\\Megatron\\Desktop\\TCC\\Coronahack-Chest-XRay-Dataset\\Coronahack-Chest-XRay-Dataset\\test')"
   ]
  },
  {
   "cell_type": "code",
   "execution_count": 42,
   "metadata": {},
   "outputs": [],
   "source": [
    "X_v2 = []\n",
    "y_v2 = []\n",
    "\n",
    "for feature, label in train_v2:\n",
    "    X_v2.append(feature)          #appending all images\n",
    "    y_v2.append(label)            #appending all labels\n",
    "\n",
    "for feature, label in test_v2:\n",
    "    X_v2.append(feature)\n",
    "    y_v2.append(label) "
   ]
  },
  {
   "cell_type": "code",
   "execution_count": 43,
   "metadata": {},
   "outputs": [],
   "source": [
    "X_new_v2 = np.array(X_v2).reshape(-1, image_size, image_size, 1)\n",
    "y_new_v2 = np.array(y_v2)\n",
    "y_new_v2 = np.expand_dims(y_new_v2, axis =1)"
   ]
  },
  {
   "cell_type": "code",
   "execution_count": 44,
   "metadata": {},
   "outputs": [],
   "source": [
    "X_train_v2, X_test_v2, y_train_v2, y_test_v2 = train_test_split(X_new_v2, y_new_v2, test_size=0.25, random_state = 42)"
   ]
  },
  {
   "cell_type": "code",
   "execution_count": 45,
   "metadata": {},
   "outputs": [
    {
     "name": "stdout",
     "output_type": "stream",
     "text": [
      "X Train Shape (3822, 256, 256, 1) \n",
      "X Test shape (1274, 256, 256, 1) \n",
      "Y Train Shape (3822, 1) \n",
      "Y Test Shape (1274, 1)\n"
     ]
    }
   ],
   "source": [
    "print('X Train Shape',X_train_v2.shape,'\\nX Test shape',X_test_v2.shape, '\\nY Train Shape',y_train_v2.shape,'\\nY Test Shape',y_test_v2.shape)"
   ]
  },
  {
   "cell_type": "code",
   "execution_count": 46,
   "metadata": {},
   "outputs": [],
   "source": [
    "load_model_fit = tf.keras.models.load_model('Pneumonia2.h5')   #loading model to train further"
   ]
  },
  {
   "cell_type": "code",
   "execution_count": 47,
   "metadata": {},
   "outputs": [],
   "source": [
    "batch_size = 4\n",
    "\n",
    "train_gen_v2 = ImageDataGenerator(rotation_range=10,\n",
    "                                   horizontal_flip = True,\n",
    "                                   width_shift_range=0.1,\n",
    "                                   height_shift_range=0.1,\n",
    "                                   rescale=1.,\n",
    "                                   zoom_range=0.2,\n",
    "                                   fill_mode='nearest',\n",
    "                                   cval=0)\n",
    "\n",
    "train_generator_v2 = train_gen_v2.flow(X_train_v2,y_train_v2,batch_size)\n",
    "steps_per_epoch = X_train_v2.shape[0]//batch_size"
   ]
  },
  {
   "cell_type": "code",
   "execution_count": 48,
   "metadata": {},
   "outputs": [
    {
     "name": "stdout",
     "output_type": "stream",
     "text": [
      "Epoch 1/35\n",
      "955/955 [==============================] - ETA: 0s - loss: 0.1138 - accuracy: 0.9602\n",
      "Epoch 00001: val_loss improved from inf to 0.11636, saving model to Pneumonia2_v2.h5\n",
      "955/955 [==============================] - 44s 46ms/step - loss: 0.1138 - accuracy: 0.9602 - val_loss: 0.1164 - val_accuracy: 0.9686\n",
      "Epoch 2/35\n",
      "955/955 [==============================] - ETA: 0s - loss: 0.1053 - accuracy: 0.9631\n",
      "Epoch 00002: val_loss improved from 0.11636 to 0.10712, saving model to Pneumonia2_v2.h5\n",
      "955/955 [==============================] - 46s 48ms/step - loss: 0.1053 - accuracy: 0.9631 - val_loss: 0.1071 - val_accuracy: 0.9717\n",
      "Epoch 3/35\n",
      "955/955 [==============================] - ETA: 0s - loss: 0.1035 - accuracy: 0.9623\n",
      "Epoch 00003: val_loss did not improve from 0.10712\n",
      "955/955 [==============================] - 38s 40ms/step - loss: 0.1035 - accuracy: 0.9623 - val_loss: 0.1324 - val_accuracy: 0.9608\n",
      "Epoch 4/35\n",
      "955/955 [==============================] - ETA: 0s - loss: 0.1142 - accuracy: 0.9578\n",
      "Epoch 00004: val_loss did not improve from 0.10712\n",
      "955/955 [==============================] - 38s 40ms/step - loss: 0.1142 - accuracy: 0.9578 - val_loss: 0.1155 - val_accuracy: 0.9655\n",
      "Epoch 5/35\n",
      "955/955 [==============================] - ETA: 0s - loss: 0.1066 - accuracy: 0.9605\n",
      "Epoch 00005: val_loss improved from 0.10712 to 0.10522, saving model to Pneumonia2_v2.h5\n",
      "955/955 [==============================] - 45s 48ms/step - loss: 0.1066 - accuracy: 0.9605 - val_loss: 0.1052 - val_accuracy: 0.9733\n",
      "Epoch 6/35\n",
      "955/955 [==============================] - ETA: 0s - loss: 0.1128 - accuracy: 0.9557\n",
      "Epoch 00006: val_loss improved from 0.10522 to 0.10498, saving model to Pneumonia2_v2.h5\n",
      "955/955 [==============================] - 45s 48ms/step - loss: 0.1128 - accuracy: 0.9557 - val_loss: 0.1050 - val_accuracy: 0.9678\n",
      "Epoch 7/35\n",
      "955/955 [==============================] - ETA: 0s - loss: 0.1055 - accuracy: 0.9646\n",
      "Epoch 00007: val_loss did not improve from 0.10498\n",
      "955/955 [==============================] - 38s 40ms/step - loss: 0.1055 - accuracy: 0.9646 - val_loss: 0.1063 - val_accuracy: 0.9757\n",
      "Epoch 8/35\n",
      "954/955 [============================>.] - ETA: 0s - loss: 0.1031 - accuracy: 0.9628\n",
      "Epoch 00008: val_loss did not improve from 0.10498\n",
      "955/955 [==============================] - 38s 40ms/step - loss: 0.1030 - accuracy: 0.9628 - val_loss: 0.1158 - val_accuracy: 0.9662\n",
      "Epoch 9/35\n",
      "955/955 [==============================] - ETA: 0s - loss: 0.0961 - accuracy: 0.9652\n",
      "Epoch 00009: val_loss did not improve from 0.10498\n",
      "955/955 [==============================] - 39s 41ms/step - loss: 0.0961 - accuracy: 0.9652 - val_loss: 0.1091 - val_accuracy: 0.9717\n",
      "Epoch 10/35\n",
      "954/955 [============================>.] - ETA: 0s - loss: 0.1006 - accuracy: 0.9617\n",
      "Epoch 00010: val_loss did not improve from 0.10498\n",
      "955/955 [==============================] - 38s 40ms/step - loss: 0.1005 - accuracy: 0.9618 - val_loss: 0.1150 - val_accuracy: 0.9710\n",
      "Epoch 11/35\n",
      "955/955 [==============================] - ETA: 0s - loss: 0.1104 - accuracy: 0.9605\n",
      "Epoch 00011: val_loss did not improve from 0.10498\n",
      "955/955 [==============================] - 38s 40ms/step - loss: 0.1104 - accuracy: 0.9605 - val_loss: 0.1821 - val_accuracy: 0.9396\n",
      "Epoch 12/35\n",
      "954/955 [============================>.] - ETA: 0s - loss: 0.0930 - accuracy: 0.9638\n",
      "Epoch 00012: val_loss improved from 0.10498 to 0.09911, saving model to Pneumonia2_v2.h5\n",
      "955/955 [==============================] - 45s 48ms/step - loss: 0.0929 - accuracy: 0.9639 - val_loss: 0.0991 - val_accuracy: 0.9710\n",
      "Epoch 13/35\n",
      "955/955 [==============================] - ETA: 0s - loss: 0.0977 - accuracy: 0.9618\n",
      "Epoch 00013: val_loss did not improve from 0.09911\n",
      "955/955 [==============================] - 38s 40ms/step - loss: 0.0977 - accuracy: 0.9618 - val_loss: 0.1111 - val_accuracy: 0.9694\n",
      "Epoch 14/35\n",
      "955/955 [==============================] - ETA: 0s - loss: 0.0905 - accuracy: 0.9691\n",
      "Epoch 00014: val_loss did not improve from 0.09911\n",
      "955/955 [==============================] - 37s 39ms/step - loss: 0.0905 - accuracy: 0.9691 - val_loss: 0.1148 - val_accuracy: 0.9655\n",
      "Epoch 15/35\n",
      "955/955 [==============================] - ETA: 0s - loss: 0.1020 - accuracy: 0.9625\n",
      "Epoch 00015: val_loss did not improve from 0.09911\n",
      "955/955 [==============================] - 37s 39ms/step - loss: 0.1020 - accuracy: 0.9625 - val_loss: 0.1120 - val_accuracy: 0.9765\n",
      "Epoch 16/35\n",
      "955/955 [==============================] - ETA: 0s - loss: 0.0930 - accuracy: 0.9639\n",
      "Epoch 00016: val_loss did not improve from 0.09911\n",
      "955/955 [==============================] - 37s 39ms/step - loss: 0.0930 - accuracy: 0.9639 - val_loss: 0.1056 - val_accuracy: 0.9686\n",
      "Epoch 17/35\n",
      "955/955 [==============================] - ETA: 0s - loss: 0.0954 - accuracy: 0.9618\n",
      "Epoch 00017: val_loss did not improve from 0.09911\n",
      "955/955 [==============================] - 37s 39ms/step - loss: 0.0954 - accuracy: 0.9618 - val_loss: 0.1021 - val_accuracy: 0.9702\n",
      "Epoch 18/35\n",
      "955/955 [==============================] - ETA: 0s - loss: 0.0913 - accuracy: 0.9657\n",
      "Epoch 00018: val_loss did not improve from 0.09911\n",
      "955/955 [==============================] - 37s 39ms/step - loss: 0.0913 - accuracy: 0.9657 - val_loss: 0.1048 - val_accuracy: 0.9710\n",
      "Epoch 19/35\n",
      "955/955 [==============================] - ETA: 0s - loss: 0.0894 - accuracy: 0.9660\n",
      "Epoch 00019: val_loss did not improve from 0.09911\n",
      "955/955 [==============================] - 37s 39ms/step - loss: 0.0894 - accuracy: 0.9660 - val_loss: 0.1180 - val_accuracy: 0.9600\n",
      "Epoch 20/35\n",
      "955/955 [==============================] - ETA: 0s - loss: 0.0914 - accuracy: 0.9694\n",
      "Epoch 00020: val_loss did not improve from 0.09911\n",
      "955/955 [==============================] - 37s 39ms/step - loss: 0.0914 - accuracy: 0.9694 - val_loss: 0.1025 - val_accuracy: 0.9678\n",
      "Epoch 21/35\n",
      "955/955 [==============================] - ETA: 0s - loss: 0.0892 - accuracy: 0.9670\n",
      "Epoch 00021: val_loss did not improve from 0.09911\n",
      "955/955 [==============================] - 37s 39ms/step - loss: 0.0892 - accuracy: 0.9670 - val_loss: 0.1078 - val_accuracy: 0.9678\n",
      "Epoch 22/35\n",
      "955/955 [==============================] - ETA: 0s - loss: 0.0912 - accuracy: 0.9665\n",
      "Epoch 00022: val_loss did not improve from 0.09911\n",
      "955/955 [==============================] - 37s 39ms/step - loss: 0.0912 - accuracy: 0.9665 - val_loss: 0.1515 - val_accuracy: 0.9505\n",
      "Epoch 23/35\n",
      "955/955 [==============================] - ETA: 0s - loss: 0.0913 - accuracy: 0.9686\n",
      "Epoch 00023: val_loss did not improve from 0.09911\n",
      "955/955 [==============================] - 38s 40ms/step - loss: 0.0913 - accuracy: 0.9686 - val_loss: 0.1091 - val_accuracy: 0.9686\n",
      "Epoch 24/35\n",
      "955/955 [==============================] - ETA: 0s - loss: 0.0946 - accuracy: 0.9683\n",
      "Epoch 00024: val_loss did not improve from 0.09911\n",
      "955/955 [==============================] - 38s 39ms/step - loss: 0.0946 - accuracy: 0.9683 - val_loss: 0.1032 - val_accuracy: 0.9670\n",
      "Epoch 25/35\n",
      "955/955 [==============================] - ETA: 0s - loss: 0.0855 - accuracy: 0.9680\n",
      "Epoch 00025: val_loss did not improve from 0.09911\n",
      "955/955 [==============================] - 38s 40ms/step - loss: 0.0855 - accuracy: 0.9680 - val_loss: 0.1050 - val_accuracy: 0.9717\n",
      "Epoch 26/35\n",
      "954/955 [============================>.] - ETA: 0s - loss: 0.0937 - accuracy: 0.9667\n",
      "Epoch 00026: val_loss did not improve from 0.09911\n",
      "955/955 [==============================] - 38s 40ms/step - loss: 0.0936 - accuracy: 0.9667 - val_loss: 0.1142 - val_accuracy: 0.9702\n",
      "Epoch 27/35\n",
      "954/955 [============================>.] - ETA: 0s - loss: 0.0959 - accuracy: 0.9633\n",
      "Epoch 00027: val_loss did not improve from 0.09911\n",
      "955/955 [==============================] - 38s 40ms/step - loss: 0.0958 - accuracy: 0.9633 - val_loss: 0.1173 - val_accuracy: 0.9694\n",
      "Epoch 28/35\n",
      "955/955 [==============================] - ETA: 0s - loss: 0.0905 - accuracy: 0.9717\n",
      "Epoch 00028: val_loss did not improve from 0.09911\n",
      "955/955 [==============================] - 38s 40ms/step - loss: 0.0905 - accuracy: 0.9717 - val_loss: 0.1029 - val_accuracy: 0.9678\n",
      "Epoch 29/35\n",
      "955/955 [==============================] - ETA: 0s - loss: 0.0937 - accuracy: 0.9670\n",
      "Epoch 00029: val_loss did not improve from 0.09911\n",
      "955/955 [==============================] - 39s 40ms/step - loss: 0.0937 - accuracy: 0.9670 - val_loss: 0.1084 - val_accuracy: 0.9631\n",
      "Epoch 30/35\n",
      "955/955 [==============================] - ETA: 0s - loss: 0.0925 - accuracy: 0.9654\n",
      "Epoch 00030: val_loss did not improve from 0.09911\n",
      "955/955 [==============================] - 38s 40ms/step - loss: 0.0925 - accuracy: 0.9654 - val_loss: 0.1008 - val_accuracy: 0.9702\n",
      "Epoch 31/35\n",
      "954/955 [============================>.] - ETA: 0s - loss: 0.0847 - accuracy: 0.9696\n",
      "Epoch 00031: val_loss did not improve from 0.09911\n",
      "955/955 [==============================] - 38s 40ms/step - loss: 0.0852 - accuracy: 0.9694 - val_loss: 0.1020 - val_accuracy: 0.9678\n",
      "Epoch 32/35\n",
      "955/955 [==============================] - ETA: 0s - loss: 0.0883 - accuracy: 0.9694\n",
      "Epoch 00032: val_loss did not improve from 0.09911\n",
      "955/955 [==============================] - 40s 41ms/step - loss: 0.0883 - accuracy: 0.9694 - val_loss: 0.1086 - val_accuracy: 0.9686\n",
      "Epoch 33/35\n",
      "955/955 [==============================] - ETA: 0s - loss: 0.0989 - accuracy: 0.9641\n",
      "Epoch 00033: val_loss improved from 0.09911 to 0.09805, saving model to Pneumonia2_v2.h5\n",
      "955/955 [==============================] - 46s 48ms/step - loss: 0.0989 - accuracy: 0.9641 - val_loss: 0.0981 - val_accuracy: 0.9670\n",
      "Epoch 34/35\n",
      "954/955 [============================>.] - ETA: 0s - loss: 0.0916 - accuracy: 0.9696\n",
      "Epoch 00034: val_loss improved from 0.09805 to 0.09718, saving model to Pneumonia2_v2.h5\n",
      "955/955 [==============================] - 47s 49ms/step - loss: 0.0915 - accuracy: 0.9696 - val_loss: 0.0972 - val_accuracy: 0.9694\n",
      "Epoch 35/35\n",
      "955/955 [==============================] - ETA: 0s - loss: 0.0793 - accuracy: 0.9696\n",
      "Epoch 00035: val_loss did not improve from 0.09718\n",
      "955/955 [==============================] - 39s 41ms/step - loss: 0.0793 - accuracy: 0.9696 - val_loss: 0.1043 - val_accuracy: 0.9686\n"
     ]
    }
   ],
   "source": [
    "load_model_fit.compile(optimizer = Adam(lr = 0.00001), loss = 'binary_crossentropy', metrics = ['accuracy']) \n",
    "\n",
    "checkpoint1 = ModelCheckpoint('Pneumonia2_v2.h5', monitor='val_loss', verbose=1, save_best_only=True, mode='auto')\n",
    "\n",
    "batch_size = 4\n",
    "\n",
    "r1 = load_model_fit.fit(train_generator_v2, validation_data=(X_test_v2, y_test_v2), steps_per_epoch = steps_per_epoch, epochs= 35,\n",
    "                       callbacks = [checkpoint1])"
   ]
  },
  {
   "cell_type": "code",
   "execution_count": 49,
   "metadata": {},
   "outputs": [],
   "source": [
    "final_model_v2 = tf.keras.models.load_model('Pneumonia2_v2.h5')"
   ]
  },
  {
   "cell_type": "code",
   "execution_count": 50,
   "metadata": {},
   "outputs": [],
   "source": [
    "pred_v2 = final_model_v2.predict(X_test_v2, batch_size = 8)"
   ]
  },
  {
   "cell_type": "code",
   "execution_count": 52,
   "metadata": {},
   "outputs": [
    {
     "data": {
      "text/plain": [
       "array([[1],\n",
       "       [1],\n",
       "       [1],\n",
       "       ...,\n",
       "       [1],\n",
       "       [1],\n",
       "       [1]])"
      ]
     },
     "execution_count": 52,
     "metadata": {},
     "output_type": "execute_result"
    }
   ],
   "source": [
    "pred_final_v2 = np.where(pred_v2>0.5,1,0)\n",
    "pred_final_v2"
   ]
  },
  {
   "cell_type": "code",
   "execution_count": 53,
   "metadata": {},
   "outputs": [
    {
     "data": {
      "image/png": "[encoded data removed]",
      "text/plain": [
       "<Figure size 576x576 with 1 Axes>"
      ]
     },
     "metadata": {
      "needs_background": "light"
     },
     "output_type": "display_data"
    }
   ],
   "source": [
    "# Get the confusion matrix\n",
    "CM = confusion_matrix(y_test_v2, pred_final_v2)\n",
    "\n",
    "fig, ax = plot_confusion_matrix(conf_mat=CM ,  figsize=(8,8))\n",
    "plt.title('Confusion matrix')\n",
    "plt.xticks(range(2), ['Normal','Pneumonia'], fontsize=10)\n",
    "plt.yticks(range(2), ['Normal','Pneumonia'], fontsize=10)\n",
    "plt.show()"
   ]
  },
  {
   "cell_type": "code",
   "execution_count": 54,
   "metadata": {},
   "outputs": [
    {
     "name": "stdout",
     "output_type": "stream",
     "text": [
      "Recall of the model is 0.9834307992202729\n",
      "Precision of the model is  0.9786614936954413\n",
      "F-Score is 0.9810403500243072\n"
     ]
    }
   ],
   "source": [
    "tp, fp, tn ,fn = perf_measure(y_test_v2,pred_final_v2)\n",
    "\n",
    "precision = tp/(tp+fp)\n",
    "recall = tp/(tp+fn)\n",
    "f_score = (2*precision*recall)/(precision+recall)\n",
    "\n",
    "print(\"Recall of the model is\",recall)\n",
    "print(\"Precision of the model is \",precision)\n",
    "print(\"F-Score is\",f_score)"
   ]
  },
  {
   "cell_type": "markdown",
   "metadata": {},
   "source": [
    "## Referencias \n",
    "##### Documentações https://keras.io/getting_started/faq/\n",
    "\n",
    "##### Dataset : https://www.kaggle.com/paultimothymooney/chest-xray-pneumonia and https://www.kaggle.com/praveengovi/coronahack-chest-xraydataset\n",
    "\n",
    "##### kaggle : https://www.kaggle.com/arjunsarkar/cnn-tensorflow-2-0-f-score-97-recall-98\n",
    "\n",
    "##### Artigos : https://medium.com/ensina-ai/introdu%C3%A7%C3%A3o-a-classificadores-bin%C3%A1rios-usando-keras-3dac9e2a3c6d\n",
    "\n",
    "##### Outras Fontes: https://pt.wikipedia.org/wiki/Rede_neural_convolucional , https://towardsdatascience.com/applied-deep-learning-part-4-convolutional-neural-networks-584bc134c1e2 , https://medium.com/@ayeshmanthaperera/what-is-padding-in-cnns-71b21fb0dd7 and https://en.wikipedia.org/wiki/Kernel_(image_processing) and https://medium.com/tinymind/a-practical-guide-to-relu-b83ca804f1f7 and http://cs231n.github.io/convolutional-networks/ and https://www.quora.com/In-Machine-Learning-what-does-it-mean-in-simple-terms-that-the-F1-score-is-the-harmonic-mean-of-precision-and-recall\n",
    "\n",
    "##### Referencias Medicas : http://docs.bvsalud.org/biblioref/2018/04/882682/interpretando-a-radiografia-de-torax-na-emergencia.pdf and https://drauziovarella.uol.com.br/doencas-e-sintomas/pneumonia/\n",
    "https://www.youtube.com/channel/UCSG4LXdEwpyP6-WctI8XdVg"
   ]
  },
  {
   "cell_type": "code",
   "execution_count": null,
   "metadata": {},
   "outputs": [],
   "source": []
  }
 ],
 "metadata": {
  "kernelspec": {
   "display_name": "Python 3",
   "language": "python",
   "name": "python3"
  },
  "language_info": {
   "codemirror_mode": {
    "name": "ipython",
    "version": 3
   },
   "file_extension": ".py",
   "mimetype": "text/x-python",
   "name": "python",
   "nbconvert_exporter": "python",
   "pygments_lexer": "ipython3",
   "version": "3.7.3"
  }
 },
 "nbformat": 4,
 "nbformat_minor": 2
}
